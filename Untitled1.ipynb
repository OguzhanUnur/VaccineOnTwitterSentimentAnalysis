{
  "nbformat": 4,
  "nbformat_minor": 0,
  "metadata": {
    "colab": {
      "name": "Untitled1.ipynb",
      "provenance": [],
      "collapsed_sections": [],
      "authorship_tag": "ABX9TyOkBuQ+S4ZN0MtMSy+ojC/H",
      "include_colab_link": true
    },
    "kernelspec": {
      "name": "python3",
      "display_name": "Python 3"
    },
    "language_info": {
      "name": "python"
    }
  },
  "cells": [
    {
      "cell_type": "markdown",
      "metadata": {
        "id": "view-in-github",
        "colab_type": "text"
      },
      "source": [
        "<a href=\"https://colab.research.google.com/github/OguzhanUnur/VaccineOnTwitterSentimentAnalysis/blob/main/Untitled1.ipynb\" target=\"_parent\"><img src=\"https://colab.research.google.com/assets/colab-badge.svg\" alt=\"Open In Colab\"/></a>"
      ]
    },
    {
      "cell_type": "code",
      "metadata": {
        "id": "ydnDRwdGTGBN"
      },
      "source": [
        "# https://developer.twitter.com/app/new"
      ],
      "execution_count": null,
      "outputs": []
    },
    {
      "cell_type": "code",
      "metadata": {
        "id": "BA7MtBpghO_9"
      },
      "source": [
        "!pip install NlpToolkit-SentiNet"
      ],
      "execution_count": null,
      "outputs": []
    },
    {
      "cell_type": "code",
      "metadata": {
        "id": "AG32ag8_TfVb"
      },
      "source": [
        "!pip install tweepy"
      ],
      "execution_count": null,
      "outputs": []
    },
    {
      "cell_type": "code",
      "metadata": {
        "id": "-7RWXiAZToJ3"
      },
      "source": [
        "consumer_key = \"enter consumer key\"\n",
        "consumer_secret = \"enter consumer secret\"\n",
        "access_token = \"enter access token\"\n",
        "access_token_secret = \"enter access token secret\"\n"
      ],
      "execution_count": null,
      "outputs": []
    },
    {
      "cell_type": "code",
      "metadata": {
        "id": "fGK5YWl0UE0w"
      },
      "source": [
        "import tweepy"
      ],
      "execution_count": null,
      "outputs": []
    },
    {
      "cell_type": "code",
      "metadata": {
        "id": "RsQ1xf9dU5aS"
      },
      "source": [
        "auth = tweepy.OAuthHandler(consumer_key, consumer_secret)\n",
        "auth.set_access_token(access_token, access_token_secret)\n"
      ],
      "execution_count": null,
      "outputs": []
    },
    {
      "cell_type": "code",
      "metadata": {
        "id": "BiDWIuSKVTMH"
      },
      "source": [
        "api = tweepy.API(auth)"
      ],
      "execution_count": null,
      "outputs": []
    },
    {
      "cell_type": "markdown",
      "metadata": {
        "id": "LccDhwO_VeV9"
      },
      "source": [
        "timeline"
      ]
    },
    {
      "cell_type": "code",
      "metadata": {
        "id": "JPEn1AQ1VfpP"
      },
      "source": [
        "twittes = api.home_timeline()"
      ],
      "execution_count": null,
      "outputs": []
    },
    {
      "cell_type": "code",
      "metadata": {
        "id": "avH_7qJCWzMl"
      },
      "source": [
        "for tweet in twittes:\n",
        "  print(tweet.text)"
      ],
      "execution_count": null,
      "outputs": []
    },
    {
      "cell_type": "code",
      "metadata": {
        "id": "Z9w6B5SpXodS"
      },
      "source": [
        "twittes"
      ],
      "execution_count": null,
      "outputs": []
    },
    {
      "cell_type": "markdown",
      "metadata": {
        "id": "MYvPMUCkZIzt"
      },
      "source": [
        "analiz "
      ]
    },
    {
      "cell_type": "code",
      "metadata": {
        "id": "l67zXT1bZKk8"
      },
      "source": [
        "from tweepy import Stream\n",
        "from tweepy import StreamListener\n",
        "import json\n",
        "from textblob import TextBlob\n",
        "import nltk\n",
        "nltk.download('punkt')"
      ],
      "execution_count": null,
      "outputs": []
    },
    {
      "cell_type": "code",
      "metadata": {
        "id": "93JDtTZoZjg6"
      },
      "source": [
        "import re\n",
        "import csv\n"
      ],
      "execution_count": null,
      "outputs": []
    },
    {
      "cell_type": "code",
      "metadata": {
        "id": "oyIMWNcmZpOI"
      },
      "source": [
        "\n",
        "pfizer = 0\n",
        "coronavac = 0\n",
        "\n",
        "header_name = ['Pfizer', 'CoronaVac']\n",
        "with open('sentiment.csv', 'w') as file:\n",
        "  writer = csv.DictWriter(file, fieldnames=header_name)\n",
        "  writer.writeheader()\n",
        "\n",
        "class Listener(StreamListener):\n",
        "  \n",
        "  def on_data(self, data):\n",
        "    raw_twitts = json.loads(data)\n",
        "    try:\n",
        "      tweets = raw_twitts['text']\n",
        "      \n",
        "\n",
        "      tweets = ' '.join(re.sub(\"(@[A-Za-z0-9]+)|([^0-9A-Za-z \\t])|(\\w+:\\/\\/\\S+)\", \" \", tweets).split())\n",
        "      tweets = ' '.join(re.sub('RT',' ', tweets).split())\n",
        "\n",
        "      blob = TextBlob(tweets.strip())\n",
        "\n",
        "      global pfizer\n",
        "      global coronavac\n",
        "\n",
        "      pfizer_sentiment = 0\n",
        "      coronavac_sentiment = 0\n",
        "\n",
        "      \n",
        "\n",
        "      for sent in blob.sentences:\n",
        "        if \"Pfizer\" in sent and \"CoronaVac\" not in sent:\n",
        "           pfizer_sentiment = pfizer_sentiment + sent.sentiment.polarity\n",
        "        else:\n",
        "           coronavac_sentiment = coronavac_sentiment + sent.sentiment.polarity\n",
        "\n",
        "      pfizer = pfizer + pfizer_sentiment\n",
        "      coronavac = coronavac + coronavac_sentiment\n",
        "\n",
        "      with open('sentiment.csv', 'a') as file:\n",
        "        writer = csv.DictWriter(file, fieldnames=header_name)\n",
        "        info = {\n",
        "            'Pfizer': pfizer,\n",
        "            'CoronaVac': coronavac\n",
        "        }\n",
        "        \n",
        "        writer.writerow(info)\n",
        "\n",
        "      \n",
        "\n",
        "      print(tweets)\n",
        "      print()\n",
        "    except:\n",
        "      print('Error got')\n",
        "\n",
        "  def on_error(self, status):\n",
        "    print(status)"
      ],
      "execution_count": null,
      "outputs": []
    },
    {
      "cell_type": "code",
      "metadata": {
        "id": "PwLtQq-9Z8O7"
      },
      "source": [
        "auth = tweepy.OAuthHandler(consumer_key, consumer_secret)\n",
        "auth.set_access_token(access_token, access_token_secret)"
      ],
      "execution_count": null,
      "outputs": []
    },
    {
      "cell_type": "code",
      "metadata": {
        "id": "4Yts4OswaCSQ"
      },
      "source": [
        "twitter_stream = Stream(auth, Listener())\n",
        "twitter_stream.filter(track = ['Pfizer', 'CoronaVac'])"
      ],
      "execution_count": null,
      "outputs": []
    },
    {
      "cell_type": "code",
      "metadata": {
        "id": "kvo3MTt6zQlG"
      },
      "source": [
        "from itertools import count\n",
        "import pandas as pd\n",
        "import matplotlib.pyplot as plt\n",
        "\n",
        "from matplotlib.animation import FuncAnimation\n",
        "%matplotlib inline"
      ],
      "execution_count": null,
      "outputs": []
    },
    {
      "cell_type": "code",
      "metadata": {
        "id": "PYu2l9JizRVF"
      },
      "source": [
        "plt.style.use('fivethirtyeight')"
      ],
      "execution_count": null,
      "outputs": []
    },
    {
      "cell_type": "code",
      "metadata": {
        "id": "TfWjkItZOYN_"
      },
      "source": [
        "data = pd.read_csv('sentiment.csv')"
      ],
      "execution_count": null,
      "outputs": []
    },
    {
      "cell_type": "code",
      "metadata": {
        "colab": {
          "base_uri": "https://localhost:8080/",
          "height": 676
        },
        "id": "ZaZJe8BIzTCW",
        "outputId": "eecc2434-5c93-48d3-cd19-3bfd8405581b"
      },
      "source": [
        "frame_len = 1000\n",
        "\n",
        "fig = plt.figure(figsize=(12,6))\n",
        "\n",
        "def animate(i):\n",
        "    data = pd.read_csv('sentiment.csv')\n",
        "    print(data)\n",
        "    y1 = data['Pfizer']\n",
        "    y2 = data['CoronaVac']\n",
        "   \n",
        "\n",
        "    if len(y1)<=frame_len:\n",
        "      plt.cla()\n",
        "      plt.plot(y1, label='Pfizer')\n",
        "      plt.plot(y2, label='CoronaVac')\n",
        "     \n",
        "    else:\n",
        "      plt.cla()\n",
        "      plt.plot(y1[-frame_len: ], label='Pfizer')\n",
        "      plt.plot(y2[-frame_len: ], label='CoronaVac')\n",
        "\n",
        "    plt.legend(loc='upper left')\n",
        "    plt.tight_layout()\n",
        "\n",
        "\n",
        "ani = FuncAnimation(plt.gcf(), animate, interval=1000)"
      ],
      "execution_count": null,
      "outputs": [
        {
          "output_type": "stream",
          "name": "stdout",
          "text": [
            "      Pfizer  CoronaVac\n",
            "0  -0.200000   0.000000\n",
            "1  -0.200000   0.000000\n",
            "2  -0.200000   0.000000\n",
            "3  -0.200000   0.000000\n",
            "4  -0.200000   0.000000\n",
            "..       ...        ...\n",
            "85  3.648106   0.134167\n",
            "86  3.648106   0.134167\n",
            "87  3.648106   0.134167\n",
            "88  3.648106   0.134167\n",
            "89  3.648106   0.134167\n",
            "\n",
            "[90 rows x 2 columns]\n"
          ]
        },
        {
          "output_type": "display_data",
          "data": {
            "image/png": "[encoded data removed]",
            "text/plain": [
              "<Figure size 864x432 with 1 Axes>"
            ]
          },
          "metadata": {}
        }
      ]
    },
    {
      "cell_type": "code",
      "metadata": {
        "colab": {
          "base_uri": "https://localhost:8080/",
          "height": 67
        },
        "id": "oFHwE4mtTVFf",
        "outputId": "d3527c3d-d0fb-46a8-a543-17c0d728e869"
      },
      "source": [
        "animate(1000)"
      ],
      "execution_count": null,
      "outputs": [
        {
          "output_type": "stream",
          "name": "stdout",
          "text": [
            "Empty DataFrame\n",
            "Columns: [Pfizer, CoronaVac]\n",
            "Index: []\n"
          ]
        }
      ]
    }
  ]
}